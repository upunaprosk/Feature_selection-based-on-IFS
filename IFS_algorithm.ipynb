{
  "nbformat": 4,
  "nbformat_minor": 0,
  "metadata": {
    "kernelspec": {
      "display_name": "Python 3",
      "language": "python",
      "name": "python3"
    },
    "language_info": {
      "codemirror_mode": {
        "name": "ipython",
        "version": 3
      },
      "file_extension": ".py",
      "mimetype": "text/x-python",
      "name": "python",
      "nbconvert_exporter": "python",
      "pygments_lexer": "ipython3",
      "version": "3.8.5"
    },
    "colab": {
      "name": "IFS_algorithm.ipynb",
      "provenance": [],
      "collapsed_sections": [],
      "include_colab_link": true
    },
    "accelerator": "GPU"
  },
  "cells": [
    {
      "cell_type": "markdown",
      "metadata": {
        "id": "view-in-github",
        "colab_type": "text"
      },
      "source": [
        "<a href=\"https://colab.research.google.com/github/upunaprosk/Feature_selection-based-on-IFS/blob/main/IFS_algorithm.ipynb\" target=\"_parent\"><img src=\"https://colab.research.google.com/assets/colab-badge.svg\" alt=\"Open In Colab\"/></a>"
      ]
    },
    {
      "cell_type": "markdown",
      "metadata": {
        "id": "HuwNxzBiyeoJ"
      },
      "source": [
        "# Intuitionistic fuzzy sets theory\r\n",
        "\r\n",
        "An IFS \\\\(A\\\\) in \\\\(X\\\\) is given by \\\\(A = \\{<x, \\mu_A(x), \\nu_A(x)>|x\\in X\\}\\\\), where \\\\(\\mu_A,\\nu_A : X \\Rightarrow [0,1]\\\\) with the condition \\\\(0\\leq\\mu_A(x) +\\nu_A(x)\\leq 1\\\\), where \\\\(\\mu_A(x), \\nu_A(x)\\\\) - are membership and a nonmembership function respectively. The third function IFS is defined by is a hesitation margin or the intuitionistic fuzzy index \\\\(\\pi_A(x) = 1-\\mu_A(x)-\\nu_A(x)\\\\) that expresses the lack of knowledge of whether \\\\(x\\\\) belongs to \\\\(A\\\\) or not.  \r\n",
        "\r\n",
        "The method demonstrated in [1] refers to feature selection (not attribute selection as the title says) in the binary classification problem.  In that notebook the method is fully replicated on the dataset that the authors also used.  \r\n",
        "The steps of the method:  \r\n",
        "1) Computing relative frequencies of each feature's attributes;  \r\n",
        "2) Mass assignment for each attribute's value for each feature;  \r\n",
        "3) Building IFS triplet for each attribute;  \r\n",
        "4) Computing average triplet for each feature and determing feature importance.  \r\n",
        "\r\n",
        "Restrictions of the method introduced:  \r\n",
        "1) binary target feature;  \r\n",
        "2) categorical features;  \r\n",
        "3) special characteristics that defined in [Analysis of the results](#results).\r\n"
      ]
    },
    {
      "cell_type": "code",
      "metadata": {
        "colab": {
          "resources": {
            "http://localhost:8080/nbextensions/google.colab/files.js": {
              "data": "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",
              "ok": true,
              "headers": [
                [
                  "content-type",
                  "application/javascript"
                ]
              ],
              "status": 200,
              "status_text": ""
            }
          },
          "base_uri": "https://localhost:8080/",
          "height": 105
        },
        "id": "omBy49MO2rTY",
        "outputId": "a7cca7ff-7e43-4b06-a5cd-47a5c48c5961"
      },
      "source": [
        "import pandas as pd\n",
        "import numpy as np\n",
        "from IPython.display import display\n",
        "import plotly.express as px\n",
        "import matplotlib.pyplot as plt\n",
        "import seaborn as sns\n",
        "from sklearn.tree import DecisionTreeClassifier\n",
        "from sklearn.metrics import precision_score, recall_score, accuracy_score, classification_report, f1_score\n",
        "from sklearn.linear_model import LogisticRegression\n",
        "from sklearn.ensemble import RandomForestClassifier\n",
        "from google.colab import files\n",
        "uploaded = files.upload() # Downloading 'SPECT.train.csv' 'SPECT.test.csv' from https://archive.ics.uci.edu/ml/machine-learning-databases/spect/"
      ],
      "execution_count": null,
      "outputs": [
        {
          "output_type": "display_data",
          "data": {
            "text/html": [
              "\n",
              "     <input type=\"file\" id=\"files-f8f082d1-bf26-4b3d-8c89-e9d27b6b601d\" name=\"files[]\" multiple disabled\n",
              "        style=\"border:none\" />\n",
              "     <output id=\"result-f8f082d1-bf26-4b3d-8c89-e9d27b6b601d\">\n",
              "      Upload widget is only available when the cell has been executed in the\n",
              "      current browser session. Please rerun this cell to enable.\n",
              "      </output>\n",
              "      <script src=\"/nbextensions/google.colab/files.js\"></script> "
            ],
            "text/plain": [
              "<IPython.core.display.HTML object>"
            ]
          },
          "metadata": {
            "tags": []
          }
        },
        {
          "output_type": "stream",
          "text": [
            "Saving SPECT.test.csv to SPECT.test.csv\n",
            "Saving SPECT.train.csv to SPECT.train.csv\n"
          ],
          "name": "stdout"
        }
      ]
    },
    {
      "cell_type": "markdown",
      "metadata": {
        "id": "8K4SrslDYQIp"
      },
      "source": [
        "# Step one :: computing relative frequencies of each feature's attributes \\\\(p_i\\\\)\r\n",
        "\r\n"
      ]
    },
    {
      "cell_type": "markdown",
      "metadata": {
        "id": "z4zpkFzG65-6"
      },
      "source": [
        "For each feature and attribute the quantity of appearence within postove and negative class is defined.  \r\n",
        "Target feature - diagnosis (first column).  \r\n",
        "The shape of the train dataset : (80,23). \r\n",
        "All the 22 features are binary ones."
      ]
    },
    {
      "cell_type": "code",
      "metadata": {
        "colab": {
          "base_uri": "https://localhost:8080/",
          "height": 221
        },
        "id": "-6eyWa-I2rTf",
        "outputId": "86fbbd60-9ca6-44e5-e821-86ce8ca2efe1"
      },
      "source": [
        "df = pd.read_csv('SPECT.train.csv', header=None)\n",
        "columns = ['diagnosis']\n",
        "columns.extend(['feature' + str(i) for i in range(1, len(df.columns))])\n",
        "df.columns = columns\n",
        "df.head()"
      ],
      "execution_count": null,
      "outputs": [
        {
          "output_type": "execute_result",
          "data": {
            "text/html": [
              "<div>\n",
              "<style scoped>\n",
              "    .dataframe tbody tr th:only-of-type {\n",
              "        vertical-align: middle;\n",
              "    }\n",
              "\n",
              "    .dataframe tbody tr th {\n",
              "        vertical-align: top;\n",
              "    }\n",
              "\n",
              "    .dataframe thead th {\n",
              "        text-align: right;\n",
              "    }\n",
              "</style>\n",
              "<table border=\"1\" class=\"dataframe\">\n",
              "  <thead>\n",
              "    <tr style=\"text-align: right;\">\n",
              "      <th></th>\n",
              "      <th>diagnosis</th>\n",
              "      <th>feature1</th>\n",
              "      <th>feature2</th>\n",
              "      <th>feature3</th>\n",
              "      <th>feature4</th>\n",
              "      <th>feature5</th>\n",
              "      <th>feature6</th>\n",
              "      <th>feature7</th>\n",
              "      <th>feature8</th>\n",
              "      <th>feature9</th>\n",
              "      <th>feature10</th>\n",
              "      <th>feature11</th>\n",
              "      <th>feature12</th>\n",
              "      <th>feature13</th>\n",
              "      <th>feature14</th>\n",
              "      <th>feature15</th>\n",
              "      <th>feature16</th>\n",
              "      <th>feature17</th>\n",
              "      <th>feature18</th>\n",
              "      <th>feature19</th>\n",
              "      <th>feature20</th>\n",
              "      <th>feature21</th>\n",
              "      <th>feature22</th>\n",
              "    </tr>\n",
              "  </thead>\n",
              "  <tbody>\n",
              "    <tr>\n",
              "      <th>0</th>\n",
              "      <td>1</td>\n",
              "      <td>0</td>\n",
              "      <td>0</td>\n",
              "      <td>0</td>\n",
              "      <td>1</td>\n",
              "      <td>0</td>\n",
              "      <td>0</td>\n",
              "      <td>0</td>\n",
              "      <td>1</td>\n",
              "      <td>1</td>\n",
              "      <td>0</td>\n",
              "      <td>0</td>\n",
              "      <td>0</td>\n",
              "      <td>1</td>\n",
              "      <td>1</td>\n",
              "      <td>0</td>\n",
              "      <td>0</td>\n",
              "      <td>0</td>\n",
              "      <td>0</td>\n",
              "      <td>0</td>\n",
              "      <td>0</td>\n",
              "      <td>0</td>\n",
              "      <td>0</td>\n",
              "    </tr>\n",
              "    <tr>\n",
              "      <th>1</th>\n",
              "      <td>1</td>\n",
              "      <td>0</td>\n",
              "      <td>0</td>\n",
              "      <td>1</td>\n",
              "      <td>1</td>\n",
              "      <td>0</td>\n",
              "      <td>0</td>\n",
              "      <td>0</td>\n",
              "      <td>1</td>\n",
              "      <td>1</td>\n",
              "      <td>0</td>\n",
              "      <td>0</td>\n",
              "      <td>0</td>\n",
              "      <td>1</td>\n",
              "      <td>1</td>\n",
              "      <td>0</td>\n",
              "      <td>0</td>\n",
              "      <td>0</td>\n",
              "      <td>0</td>\n",
              "      <td>0</td>\n",
              "      <td>0</td>\n",
              "      <td>0</td>\n",
              "      <td>1</td>\n",
              "    </tr>\n",
              "    <tr>\n",
              "      <th>2</th>\n",
              "      <td>1</td>\n",
              "      <td>1</td>\n",
              "      <td>0</td>\n",
              "      <td>1</td>\n",
              "      <td>0</td>\n",
              "      <td>1</td>\n",
              "      <td>0</td>\n",
              "      <td>0</td>\n",
              "      <td>1</td>\n",
              "      <td>0</td>\n",
              "      <td>1</td>\n",
              "      <td>0</td>\n",
              "      <td>0</td>\n",
              "      <td>1</td>\n",
              "      <td>0</td>\n",
              "      <td>0</td>\n",
              "      <td>0</td>\n",
              "      <td>0</td>\n",
              "      <td>0</td>\n",
              "      <td>0</td>\n",
              "      <td>0</td>\n",
              "      <td>0</td>\n",
              "      <td>0</td>\n",
              "    </tr>\n",
              "    <tr>\n",
              "      <th>3</th>\n",
              "      <td>1</td>\n",
              "      <td>0</td>\n",
              "      <td>0</td>\n",
              "      <td>0</td>\n",
              "      <td>0</td>\n",
              "      <td>0</td>\n",
              "      <td>0</td>\n",
              "      <td>0</td>\n",
              "      <td>0</td>\n",
              "      <td>0</td>\n",
              "      <td>0</td>\n",
              "      <td>1</td>\n",
              "      <td>0</td>\n",
              "      <td>0</td>\n",
              "      <td>0</td>\n",
              "      <td>0</td>\n",
              "      <td>0</td>\n",
              "      <td>0</td>\n",
              "      <td>0</td>\n",
              "      <td>0</td>\n",
              "      <td>1</td>\n",
              "      <td>1</td>\n",
              "      <td>1</td>\n",
              "    </tr>\n",
              "    <tr>\n",
              "      <th>4</th>\n",
              "      <td>1</td>\n",
              "      <td>0</td>\n",
              "      <td>0</td>\n",
              "      <td>0</td>\n",
              "      <td>0</td>\n",
              "      <td>0</td>\n",
              "      <td>0</td>\n",
              "      <td>0</td>\n",
              "      <td>1</td>\n",
              "      <td>0</td>\n",
              "      <td>0</td>\n",
              "      <td>0</td>\n",
              "      <td>0</td>\n",
              "      <td>1</td>\n",
              "      <td>0</td>\n",
              "      <td>1</td>\n",
              "      <td>1</td>\n",
              "      <td>0</td>\n",
              "      <td>0</td>\n",
              "      <td>0</td>\n",
              "      <td>0</td>\n",
              "      <td>0</td>\n",
              "      <td>0</td>\n",
              "    </tr>\n",
              "  </tbody>\n",
              "</table>\n",
              "</div>"
            ],
            "text/plain": [
              "   diagnosis  feature1  feature2  ...  feature20  feature21  feature22\n",
              "0          1         0         0  ...          0          0          0\n",
              "1          1         0         0  ...          0          0          1\n",
              "2          1         1         0  ...          0          0          0\n",
              "3          1         0         0  ...          1          1          1\n",
              "4          1         0         0  ...          0          0          0\n",
              "\n",
              "[5 rows x 23 columns]"
            ]
          },
          "metadata": {
            "tags": []
          },
          "execution_count": 79
        }
      ]
    },
    {
      "cell_type": "code",
      "metadata": {
        "colab": {
          "base_uri": "https://localhost:8080/"
        },
        "id": "dW5EbOU87alh",
        "outputId": "8e36ba5c-3966-4300-dcd9-2a79bf5be3eb"
      },
      "source": [
        "df.shape"
      ],
      "execution_count": null,
      "outputs": [
        {
          "output_type": "execute_result",
          "data": {
            "text/plain": [
              "(80, 23)"
            ]
          },
          "metadata": {
            "tags": []
          },
          "execution_count": 80
        }
      ]
    },
    {
      "cell_type": "code",
      "metadata": {
        "id": "Ce4vorid2rTo"
      },
      "source": [
        "arrays = [[1,1,0,0], [1,0,1,0]]\n",
        "dd = pd.DataFrame(columns= pd.MultiIndex.from_arrays(arrays, names=('diagnosis', 'feature')))\n",
        "dd.columns = pd.MultiIndex.from_arrays(arrays, names=('diagnosis', 'feature'))"
      ],
      "execution_count": null,
      "outputs": []
    },
    {
      "cell_type": "code",
      "metadata": {
        "colab": {
          "base_uri": "https://localhost:8080/",
          "height": 752
        },
        "id": "RFo0jHcg2rTs",
        "outputId": "670aab5d-ead0-4ff1-b9e0-33a1f41f8267"
      },
      "source": [
        "all_values = [(1, 0), (1, 1), (0, 0), (0, 1)] # tuple of all possible values\n",
        "features = df.columns.tolist()[1:]\n",
        "for i in features:\n",
        "    datum = df.groupby(['diagnosis',i])[i].count().to_frame().transpose()\n",
        "    if set(datum.columns.tolist()) != set(all_values):\n",
        "        values = set(all_values).difference(set(datum.columns.tolist()))\n",
        "        for i in values:\n",
        "            datum[i] = 0\n",
        "    dd = pd.concat([dd, datum])\n",
        "display(dd)"
      ],
      "execution_count": null,
      "outputs": [
        {
          "output_type": "display_data",
          "data": {
            "text/html": [
              "<div>\n",
              "<style scoped>\n",
              "    .dataframe tbody tr th:only-of-type {\n",
              "        vertical-align: middle;\n",
              "    }\n",
              "\n",
              "    .dataframe tbody tr th {\n",
              "        vertical-align: top;\n",
              "    }\n",
              "\n",
              "    .dataframe thead tr th {\n",
              "        text-align: left;\n",
              "    }\n",
              "</style>\n",
              "<table border=\"1\" class=\"dataframe\">\n",
              "  <thead>\n",
              "    <tr>\n",
              "      <th></th>\n",
              "      <th colspan=\"2\" halign=\"left\">0</th>\n",
              "      <th colspan=\"2\" halign=\"left\">1</th>\n",
              "    </tr>\n",
              "    <tr>\n",
              "      <th></th>\n",
              "      <th>0</th>\n",
              "      <th>1</th>\n",
              "      <th>0</th>\n",
              "      <th>1</th>\n",
              "    </tr>\n",
              "  </thead>\n",
              "  <tbody>\n",
              "    <tr>\n",
              "      <th>feature1</th>\n",
              "      <td>29</td>\n",
              "      <td>11</td>\n",
              "      <td>22</td>\n",
              "      <td>18</td>\n",
              "    </tr>\n",
              "    <tr>\n",
              "      <th>feature2</th>\n",
              "      <td>37</td>\n",
              "      <td>3</td>\n",
              "      <td>30</td>\n",
              "      <td>10</td>\n",
              "    </tr>\n",
              "    <tr>\n",
              "      <th>feature3</th>\n",
              "      <td>34</td>\n",
              "      <td>6</td>\n",
              "      <td>25</td>\n",
              "      <td>15</td>\n",
              "    </tr>\n",
              "    <tr>\n",
              "      <th>feature4</th>\n",
              "      <td>36</td>\n",
              "      <td>4</td>\n",
              "      <td>27</td>\n",
              "      <td>13</td>\n",
              "    </tr>\n",
              "    <tr>\n",
              "      <th>feature5</th>\n",
              "      <td>30</td>\n",
              "      <td>10</td>\n",
              "      <td>26</td>\n",
              "      <td>14</td>\n",
              "    </tr>\n",
              "    <tr>\n",
              "      <th>feature6</th>\n",
              "      <td>37</td>\n",
              "      <td>3</td>\n",
              "      <td>33</td>\n",
              "      <td>7</td>\n",
              "    </tr>\n",
              "    <tr>\n",
              "      <th>feature7</th>\n",
              "      <td>35</td>\n",
              "      <td>5</td>\n",
              "      <td>24</td>\n",
              "      <td>16</td>\n",
              "    </tr>\n",
              "    <tr>\n",
              "      <th>feature8</th>\n",
              "      <td>36</td>\n",
              "      <td>4</td>\n",
              "      <td>22</td>\n",
              "      <td>18</td>\n",
              "    </tr>\n",
              "    <tr>\n",
              "      <th>feature9</th>\n",
              "      <td>36</td>\n",
              "      <td>4</td>\n",
              "      <td>29</td>\n",
              "      <td>11</td>\n",
              "    </tr>\n",
              "    <tr>\n",
              "      <th>feature10</th>\n",
              "      <td>32</td>\n",
              "      <td>8</td>\n",
              "      <td>25</td>\n",
              "      <td>15</td>\n",
              "    </tr>\n",
              "    <tr>\n",
              "      <th>feature11</th>\n",
              "      <td>37</td>\n",
              "      <td>3</td>\n",
              "      <td>27</td>\n",
              "      <td>13</td>\n",
              "    </tr>\n",
              "    <tr>\n",
              "      <th>feature12</th>\n",
              "      <td>35</td>\n",
              "      <td>5</td>\n",
              "      <td>25</td>\n",
              "      <td>15</td>\n",
              "    </tr>\n",
              "    <tr>\n",
              "      <th>feature13</th>\n",
              "      <td>35</td>\n",
              "      <td>5</td>\n",
              "      <td>17</td>\n",
              "      <td>23</td>\n",
              "    </tr>\n",
              "    <tr>\n",
              "      <th>feature14</th>\n",
              "      <td>36</td>\n",
              "      <td>4</td>\n",
              "      <td>28</td>\n",
              "      <td>12</td>\n",
              "    </tr>\n",
              "    <tr>\n",
              "      <th>feature15</th>\n",
              "      <td>39</td>\n",
              "      <td>1</td>\n",
              "      <td>35</td>\n",
              "      <td>5</td>\n",
              "    </tr>\n",
              "    <tr>\n",
              "      <th>feature16</th>\n",
              "      <td>39</td>\n",
              "      <td>1</td>\n",
              "      <td>27</td>\n",
              "      <td>13</td>\n",
              "    </tr>\n",
              "    <tr>\n",
              "      <th>feature17</th>\n",
              "      <td>40</td>\n",
              "      <td>0</td>\n",
              "      <td>32</td>\n",
              "      <td>8</td>\n",
              "    </tr>\n",
              "    <tr>\n",
              "      <th>feature18</th>\n",
              "      <td>40</td>\n",
              "      <td>0</td>\n",
              "      <td>34</td>\n",
              "      <td>6</td>\n",
              "    </tr>\n",
              "    <tr>\n",
              "      <th>feature19</th>\n",
              "      <td>35</td>\n",
              "      <td>5</td>\n",
              "      <td>30</td>\n",
              "      <td>10</td>\n",
              "    </tr>\n",
              "    <tr>\n",
              "      <th>feature20</th>\n",
              "      <td>35</td>\n",
              "      <td>5</td>\n",
              "      <td>27</td>\n",
              "      <td>13</td>\n",
              "    </tr>\n",
              "    <tr>\n",
              "      <th>feature21</th>\n",
              "      <td>36</td>\n",
              "      <td>4</td>\n",
              "      <td>25</td>\n",
              "      <td>15</td>\n",
              "    </tr>\n",
              "    <tr>\n",
              "      <th>feature22</th>\n",
              "      <td>33</td>\n",
              "      <td>7</td>\n",
              "      <td>21</td>\n",
              "      <td>19</td>\n",
              "    </tr>\n",
              "  </tbody>\n",
              "</table>\n",
              "</div>"
            ],
            "text/plain": [
              "            0       1    \n",
              "            0   1   0   1\n",
              "feature1   29  11  22  18\n",
              "feature2   37   3  30  10\n",
              "feature3   34   6  25  15\n",
              "feature4   36   4  27  13\n",
              "feature5   30  10  26  14\n",
              "feature6   37   3  33   7\n",
              "feature7   35   5  24  16\n",
              "feature8   36   4  22  18\n",
              "feature9   36   4  29  11\n",
              "feature10  32   8  25  15\n",
              "feature11  37   3  27  13\n",
              "feature12  35   5  25  15\n",
              "feature13  35   5  17  23\n",
              "feature14  36   4  28  12\n",
              "feature15  39   1  35   5\n",
              "feature16  39   1  27  13\n",
              "feature17  40   0  32   8\n",
              "feature18  40   0  34   6\n",
              "feature19  35   5  30  10\n",
              "feature20  35   5  27  13\n",
              "feature21  36   4  25  15\n",
              "feature22  33   7  21  19"
            ]
          },
          "metadata": {
            "tags": []
          }
        }
      ]
    },
    {
      "cell_type": "code",
      "metadata": {
        "id": "L_JnqT8G2rTt"
      },
      "source": [
        "dfs = np.split(dd, [2], axis=1)\n",
        "dfs[0] = dfs[0]/df[df['diagnosis'] == 1].shape[0]\n",
        "dfs[1] = dfs[1]/df[df['diagnosis'] == 0].shape[0]"
      ],
      "execution_count": null,
      "outputs": []
    },
    {
      "cell_type": "markdown",
      "metadata": {
        "id": "JDQnYt3e48yz"
      },
      "source": [
        "Frequencies of appearing \\\\((1, 0), (1, 1), (0, 0), (0, 1)\\\\), where first value - diagnosis, second value = feature value for each group"
      ]
    },
    {
      "cell_type": "code",
      "metadata": {
        "colab": {
          "base_uri": "https://localhost:8080/",
          "height": 232
        },
        "id": "Vgz7X5G82rTw",
        "outputId": "ba150c17-4abc-4e2e-ca6e-d9bf9e06f418"
      },
      "source": [
        "new_data = dfs[0].join(dfs[1])\n",
        "new_data.head()"
      ],
      "execution_count": null,
      "outputs": [
        {
          "output_type": "execute_result",
          "data": {
            "text/html": [
              "<div>\n",
              "<style scoped>\n",
              "    .dataframe tbody tr th:only-of-type {\n",
              "        vertical-align: middle;\n",
              "    }\n",
              "\n",
              "    .dataframe tbody tr th {\n",
              "        vertical-align: top;\n",
              "    }\n",
              "\n",
              "    .dataframe thead tr th {\n",
              "        text-align: left;\n",
              "    }\n",
              "</style>\n",
              "<table border=\"1\" class=\"dataframe\">\n",
              "  <thead>\n",
              "    <tr>\n",
              "      <th></th>\n",
              "      <th colspan=\"2\" halign=\"left\">0</th>\n",
              "      <th colspan=\"2\" halign=\"left\">1</th>\n",
              "    </tr>\n",
              "    <tr>\n",
              "      <th></th>\n",
              "      <th>0</th>\n",
              "      <th>1</th>\n",
              "      <th>0</th>\n",
              "      <th>1</th>\n",
              "    </tr>\n",
              "  </thead>\n",
              "  <tbody>\n",
              "    <tr>\n",
              "      <th>feature1</th>\n",
              "      <td>0.725</td>\n",
              "      <td>0.275</td>\n",
              "      <td>0.55</td>\n",
              "      <td>0.45</td>\n",
              "    </tr>\n",
              "    <tr>\n",
              "      <th>feature2</th>\n",
              "      <td>0.925</td>\n",
              "      <td>0.075</td>\n",
              "      <td>0.75</td>\n",
              "      <td>0.25</td>\n",
              "    </tr>\n",
              "    <tr>\n",
              "      <th>feature3</th>\n",
              "      <td>0.85</td>\n",
              "      <td>0.15</td>\n",
              "      <td>0.625</td>\n",
              "      <td>0.375</td>\n",
              "    </tr>\n",
              "    <tr>\n",
              "      <th>feature4</th>\n",
              "      <td>0.9</td>\n",
              "      <td>0.1</td>\n",
              "      <td>0.675</td>\n",
              "      <td>0.325</td>\n",
              "    </tr>\n",
              "    <tr>\n",
              "      <th>feature5</th>\n",
              "      <td>0.75</td>\n",
              "      <td>0.25</td>\n",
              "      <td>0.65</td>\n",
              "      <td>0.35</td>\n",
              "    </tr>\n",
              "  </tbody>\n",
              "</table>\n",
              "</div>"
            ],
            "text/plain": [
              "              0             1       \n",
              "              0      1      0      1\n",
              "feature1  0.725  0.275   0.55   0.45\n",
              "feature2  0.925  0.075   0.75   0.25\n",
              "feature3   0.85   0.15  0.625  0.375\n",
              "feature4    0.9    0.1  0.675  0.325\n",
              "feature5   0.75   0.25   0.65   0.35"
            ]
          },
          "metadata": {
            "tags": []
          },
          "execution_count": 84
        }
      ]
    },
    {
      "cell_type": "markdown",
      "metadata": {
        "id": "ieRPBWQ75Tks"
      },
      "source": [
        "# Step two and three :: Building IFS\r\n",
        "\r\n",
        "## Step two\r\n",
        "Firstly, for each attribute values (in case of the SPECT data there are 2 of them) \\\\(pos\\\\) and \\\\(neg\\\\) are computed.  \r\n",
        "\\\\(pos_i|neg_i = |F|_i\\cdot p_i + \\sum_{i=1}^n (|F_k|-|F|_{k+1}|)\\cdot p_k\\\\), where \\\\(|F|_i  = |\\{x \\in \\Lambda | P(x) \\geq p_i\\}|\\\\), \\\\(0\\leq p_{i+1} < p_i \\leq 1 \\\\).  \r\n",
        "So, to put in other words, for each feature attribute from the table of relative frequencies defined above there are four values: two values for positive and negative class. These values can be defined as \\\\(p_0^+(i), p_1^+(i)\\\\), same - for negative class, where \\\\(i\\\\) - feature's value and \\\\(0,1\\\\) are feature's values (attributes).  \r\n",
        "For the mass assgnment (computing \\\\(pos\\\\) and \\\\(neg\\\\)) they have to be sorted first. After that the least frequency is multiplied by two as \\\\(|F_i| =2\\\\) beacause two values of frequency probabilities are greater or equal to it, and the other is assigned to one by the mass assignment property.  \r\n",
        "That step is computed in ```votings``` function.\r\n",
        "Example of input/output:  \r\n",
        "Feature 1:  \r\n",
        "\r\n",
        "```\r\n",
        "temp = [((0, 0), 0.725), ((0, 1), 0.275), ((1, 0), 0.55), ((1, 1), 0.45)]\r\n",
        "neg = votings(temp[2:]) = votings(((1, 0), 0.55), ((1, 1), 0.45)) = {1: 0.9, 0: 1}\r\n",
        "```\r\n",
        "```{1: 0.9, 0: 1}::   0.9 = 0.45 *2; 0: 1```\r\n",
        "## Step three\r\n",
        "Secondly, based on obtained \\\\(pos\\\\) and \\\\(neg\\\\) values an IFS triplet is obtained and the corresponding values of the dataset are replaced with them for further averaging in step four. The triplet's values are computed as follows: \r\n",
        "\r\n",
        "1) \\\\(\\pi(i) = pos(i)+neg(i)-1\\\\);  \r\n",
        "2) \\\\(\\mu = pos(i)-\\pi(i)\\\\);\r\n",
        "3) \\\\(\\nu = neg(i)-\\pi(i)\\\\);\r\n",
        "\r\n",
        "\r\n",
        "That part of computations is provided in ```computing_ifs``` function."
      ]
    },
    {
      "cell_type": "markdown",
      "metadata": {
        "id": "aTMs0eb3TVQW"
      },
      "source": [
        ""
      ]
    },
    {
      "cell_type": "code",
      "metadata": {
        "colab": {
          "base_uri": "https://localhost:8080/",
          "height": 304
        },
        "id": "lYnOmzuH2rTy",
        "outputId": "2e9a9d2e-b425-489f-c3ee-252fd0246978"
      },
      "source": [
        "# votings = |F|_i * p_i + |F|_i-|F|_{j+1} (from article Intuitionistic Fuzzy Set Functions, Mass Assignment Theory,\n",
        "# Possibility Theory and Histograms) (list_of_objects: list) -> dict\n",
        "def votings(list_of_objects: list) -> dict:\n",
        "\n",
        "\n",
        "  ''' attr: list of pos or neg frequencies of values {0,1}\n",
        "      returns: a dict of mu(i) for binary  values \n",
        "  '''\n",
        "  myDict = {} \n",
        "  list_of_objects = sorted(list_of_objects, key=lambda tup: tup[1])\n",
        "  for i in range(len(list_of_objects)):\n",
        "      idx = 0\n",
        "      for j in range(i):\n",
        "          idx += list_of_objects[j][1]\n",
        "      x = min(1, (len(list_of_objects)-i) * list_of_objects[i][1] + idx)\n",
        "      myDict[list_of_objects[i][0][1]] = x\n",
        "  return myDict\n",
        "\n",
        "def compute_ifs(pos: dict, neg: dict) -> dict:\n",
        "    res = {}\n",
        "    for i in pos.keys():\n",
        "        pi = max(0, pos[i] + neg[i] - 1)\n",
        "        mu = max(0, pos[i] - pi)\n",
        "        nu = max(0, neg[i] - pi)\n",
        "\n",
        "        res[i] = np.array([pi,mu,nu]).round(5)\n",
        "    return res\n",
        "    \n",
        "index = 0\n",
        "df1 = df.astype(int)\n",
        "for i in range(len(new_data)):\n",
        "    temp = list(zip(new_data.iloc[[i],:].columns.tolist(), new_data.iloc[[i],:].values[0].tolist()))\n",
        "    neg = votings(temp[2:])\n",
        "    pos = votings(temp[:2])\n",
        "    res = compute_ifs(pos,neg)\n",
        "    df1[features[index]] = df1[features[index]].map(res)\n",
        "    index += 1\n",
        "df1.head()"
      ],
      "execution_count": null,
      "outputs": [
        {
          "output_type": "execute_result",
          "data": {
            "text/html": [
              "<div>\n",
              "<style scoped>\n",
              "    .dataframe tbody tr th:only-of-type {\n",
              "        vertical-align: middle;\n",
              "    }\n",
              "\n",
              "    .dataframe tbody tr th {\n",
              "        vertical-align: top;\n",
              "    }\n",
              "\n",
              "    .dataframe thead th {\n",
              "        text-align: right;\n",
              "    }\n",
              "</style>\n",
              "<table border=\"1\" class=\"dataframe\">\n",
              "  <thead>\n",
              "    <tr style=\"text-align: right;\">\n",
              "      <th></th>\n",
              "      <th>diagnosis</th>\n",
              "      <th>feature1</th>\n",
              "      <th>feature2</th>\n",
              "      <th>feature3</th>\n",
              "      <th>feature4</th>\n",
              "      <th>feature5</th>\n",
              "      <th>feature6</th>\n",
              "      <th>feature7</th>\n",
              "      <th>feature8</th>\n",
              "      <th>feature9</th>\n",
              "      <th>feature10</th>\n",
              "      <th>feature11</th>\n",
              "      <th>feature12</th>\n",
              "      <th>feature13</th>\n",
              "      <th>feature14</th>\n",
              "      <th>feature15</th>\n",
              "      <th>feature16</th>\n",
              "      <th>feature17</th>\n",
              "      <th>feature18</th>\n",
              "      <th>feature19</th>\n",
              "      <th>feature20</th>\n",
              "      <th>feature21</th>\n",
              "      <th>feature22</th>\n",
              "    </tr>\n",
              "  </thead>\n",
              "  <tbody>\n",
              "    <tr>\n",
              "      <th>0</th>\n",
              "      <td>1</td>\n",
              "      <td>[1, 0, 0]</td>\n",
              "      <td>[1, 0, 0]</td>\n",
              "      <td>[1, 0, 0]</td>\n",
              "      <td>[0.0, 0.2, 0.65]</td>\n",
              "      <td>[1, 0, 0]</td>\n",
              "      <td>[1, 0, 0]</td>\n",
              "      <td>[1, 0, 0]</td>\n",
              "      <td>[0.1, 0.1, 0.8]</td>\n",
              "      <td>[0.0, 0.2, 0.55]</td>\n",
              "      <td>[1, 0, 0]</td>\n",
              "      <td>[1, 0, 0]</td>\n",
              "      <td>[1, 0, 0]</td>\n",
              "      <td>[0.25, 0.0, 0.75]</td>\n",
              "      <td>[0.0, 0.2, 0.6]</td>\n",
              "      <td>[1, 0, 0]</td>\n",
              "      <td>[1, 0, 0]</td>\n",
              "      <td>[1, 0, 0]</td>\n",
              "      <td>[1, 0, 0]</td>\n",
              "      <td>[1, 0, 0]</td>\n",
              "      <td>[1, 0, 0]</td>\n",
              "      <td>[1, 0, 0]</td>\n",
              "      <td>[1, 0, 0]</td>\n",
              "    </tr>\n",
              "    <tr>\n",
              "      <th>1</th>\n",
              "      <td>1</td>\n",
              "      <td>[1, 0, 0]</td>\n",
              "      <td>[1, 0, 0]</td>\n",
              "      <td>[0.05, 0.25, 0.7]</td>\n",
              "      <td>[0.0, 0.2, 0.65]</td>\n",
              "      <td>[1, 0, 0]</td>\n",
              "      <td>[1, 0, 0]</td>\n",
              "      <td>[1, 0, 0]</td>\n",
              "      <td>[0.1, 0.1, 0.8]</td>\n",
              "      <td>[0.0, 0.2, 0.55]</td>\n",
              "      <td>[1, 0, 0]</td>\n",
              "      <td>[1, 0, 0]</td>\n",
              "      <td>[1, 0, 0]</td>\n",
              "      <td>[0.25, 0.0, 0.75]</td>\n",
              "      <td>[0.0, 0.2, 0.6]</td>\n",
              "      <td>[1, 0, 0]</td>\n",
              "      <td>[1, 0, 0]</td>\n",
              "      <td>[1, 0, 0]</td>\n",
              "      <td>[1, 0, 0]</td>\n",
              "      <td>[1, 0, 0]</td>\n",
              "      <td>[1, 0, 0]</td>\n",
              "      <td>[1, 0, 0]</td>\n",
              "      <td>[0.3, 0.05, 0.65]</td>\n",
              "    </tr>\n",
              "    <tr>\n",
              "      <th>2</th>\n",
              "      <td>1</td>\n",
              "      <td>[0.45, 0.1, 0.45]</td>\n",
              "      <td>[1, 0, 0]</td>\n",
              "      <td>[0.05, 0.25, 0.7]</td>\n",
              "      <td>[1, 0, 0]</td>\n",
              "      <td>[0.2, 0.3, 0.5]</td>\n",
              "      <td>[1, 0, 0]</td>\n",
              "      <td>[1, 0, 0]</td>\n",
              "      <td>[0.1, 0.1, 0.8]</td>\n",
              "      <td>[1, 0, 0]</td>\n",
              "      <td>[0.15, 0.25, 0.6]</td>\n",
              "      <td>[1, 0, 0]</td>\n",
              "      <td>[1, 0, 0]</td>\n",
              "      <td>[0.25, 0.0, 0.75]</td>\n",
              "      <td>[1, 0, 0]</td>\n",
              "      <td>[1, 0, 0]</td>\n",
              "      <td>[1, 0, 0]</td>\n",
              "      <td>[1, 0, 0]</td>\n",
              "      <td>[1, 0, 0]</td>\n",
              "      <td>[1, 0, 0]</td>\n",
              "      <td>[1, 0, 0]</td>\n",
              "      <td>[1, 0, 0]</td>\n",
              "      <td>[1, 0, 0]</td>\n",
              "    </tr>\n",
              "    <tr>\n",
              "      <th>3</th>\n",
              "      <td>1</td>\n",
              "      <td>[1, 0, 0]</td>\n",
              "      <td>[1, 0, 0]</td>\n",
              "      <td>[1, 0, 0]</td>\n",
              "      <td>[1, 0, 0]</td>\n",
              "      <td>[1, 0, 0]</td>\n",
              "      <td>[1, 0, 0]</td>\n",
              "      <td>[1, 0, 0]</td>\n",
              "      <td>[1, 0, 0]</td>\n",
              "      <td>[1, 0, 0]</td>\n",
              "      <td>[1, 0, 0]</td>\n",
              "      <td>[0.0, 0.15, 0.65]</td>\n",
              "      <td>[1, 0, 0]</td>\n",
              "      <td>[0.85, 0.15, 0.0]</td>\n",
              "      <td>[1, 0, 0]</td>\n",
              "      <td>[1, 0, 0]</td>\n",
              "      <td>[1, 0, 0]</td>\n",
              "      <td>[1, 0, 0]</td>\n",
              "      <td>[1, 0, 0]</td>\n",
              "      <td>[1, 0, 0]</td>\n",
              "      <td>[0.0, 0.25, 0.65]</td>\n",
              "      <td>[0.0, 0.2, 0.75]</td>\n",
              "      <td>[0.3, 0.05, 0.65]</td>\n",
              "    </tr>\n",
              "    <tr>\n",
              "      <th>4</th>\n",
              "      <td>1</td>\n",
              "      <td>[1, 0, 0]</td>\n",
              "      <td>[1, 0, 0]</td>\n",
              "      <td>[1, 0, 0]</td>\n",
              "      <td>[1, 0, 0]</td>\n",
              "      <td>[1, 0, 0]</td>\n",
              "      <td>[1, 0, 0]</td>\n",
              "      <td>[1, 0, 0]</td>\n",
              "      <td>[0.1, 0.1, 0.8]</td>\n",
              "      <td>[1, 0, 0]</td>\n",
              "      <td>[1, 0, 0]</td>\n",
              "      <td>[1, 0, 0]</td>\n",
              "      <td>[1, 0, 0]</td>\n",
              "      <td>[0.25, 0.0, 0.75]</td>\n",
              "      <td>[1, 0, 0]</td>\n",
              "      <td>[0.0, 0.05, 0.25]</td>\n",
              "      <td>[0.0, 0.05, 0.65]</td>\n",
              "      <td>[1, 0, 0]</td>\n",
              "      <td>[1, 0, 0]</td>\n",
              "      <td>[1, 0, 0]</td>\n",
              "      <td>[1, 0, 0]</td>\n",
              "      <td>[1, 0, 0]</td>\n",
              "      <td>[1, 0, 0]</td>\n",
              "    </tr>\n",
              "  </tbody>\n",
              "</table>\n",
              "</div>"
            ],
            "text/plain": [
              "   diagnosis           feature1  ...         feature21          feature22\n",
              "0          1          [1, 0, 0]  ...         [1, 0, 0]          [1, 0, 0]\n",
              "1          1          [1, 0, 0]  ...         [1, 0, 0]  [0.3, 0.05, 0.65]\n",
              "2          1  [0.45, 0.1, 0.45]  ...         [1, 0, 0]          [1, 0, 0]\n",
              "3          1          [1, 0, 0]  ...  [0.0, 0.2, 0.75]  [0.3, 0.05, 0.65]\n",
              "4          1          [1, 0, 0]  ...         [1, 0, 0]          [1, 0, 0]\n",
              "\n",
              "[5 rows x 23 columns]"
            ]
          },
          "metadata": {
            "tags": []
          },
          "execution_count": 85
        }
      ]
    },
    {
      "cell_type": "markdown",
      "metadata": {
        "id": "p6xrqwBFAVZ1"
      },
      "source": [
        "# Step four:: Computing feature importance\r\n",
        "\r\n",
        "As defined in [1], feature importance of the feature \\\\(k\\\\) can be estimated by the following function: \r\n",
        "\r\n",
        "\\\\(f(A_k) = |1-\\bar\\pi_k|\\cdot |\\bar\\mu_k-\\bar\\nu_k|\\\\)"
      ]
    },
    {
      "cell_type": "code",
      "metadata": {
        "colab": {
          "base_uri": "https://localhost:8080/",
          "height": 721
        },
        "id": "Q_FZvxzE2rT0",
        "outputId": "8a9d4a53-bbb1-421e-da86-9d4b9a06158f"
      },
      "source": [
        "results = df1.loc[:, features].sum()/len(df)\n",
        "result_ifs = pd.DataFrame({'Feature':results.index, 'list':results.values})\n",
        "result_ifs ['π'] = result_ifs ['μ'] = result_ifs ['υ'] = result_ifs ['μ - υ'] = 0\n",
        "result_ifs ['π']= result_ifs ['list'].apply(lambda x: x[0]) \n",
        "result_ifs ['μ']= result_ifs ['list'].apply(lambda x: x[1]) \n",
        "result_ifs ['υ']= result_ifs ['list'].apply(lambda x: x[2]) \n",
        "result_ifs = result_ifs.drop('list',axis = 1)\n",
        "result_ifs['μ - υ'] = abs(result_ifs ['μ'] - result_ifs ['υ'])\n",
        "result_ifs['|1- π|⋅|μ - υ|'] = abs(1 -result_ifs ['π']) * result_ifs ['μ - υ'] \n",
        "result_ifs = result_ifs.sort_values('|1- π|⋅|μ - υ|',ascending = False)\n",
        "display(result_ifs)"
      ],
      "execution_count": null,
      "outputs": [
        {
          "output_type": "display_data",
          "data": {
            "text/html": [
              "<div>\n",
              "<style scoped>\n",
              "    .dataframe tbody tr th:only-of-type {\n",
              "        vertical-align: middle;\n",
              "    }\n",
              "\n",
              "    .dataframe tbody tr th {\n",
              "        vertical-align: top;\n",
              "    }\n",
              "\n",
              "    .dataframe thead th {\n",
              "        text-align: right;\n",
              "    }\n",
              "</style>\n",
              "<table border=\"1\" class=\"dataframe\">\n",
              "  <thead>\n",
              "    <tr style=\"text-align: right;\">\n",
              "      <th></th>\n",
              "      <th>Feature</th>\n",
              "      <th>π</th>\n",
              "      <th>μ</th>\n",
              "      <th>υ</th>\n",
              "      <th>μ - υ</th>\n",
              "      <th>|1- π|⋅|μ - υ|</th>\n",
              "    </tr>\n",
              "  </thead>\n",
              "  <tbody>\n",
              "    <tr>\n",
              "      <th>12</th>\n",
              "      <td>feature13</td>\n",
              "      <td>0.640000</td>\n",
              "      <td>0.097500</td>\n",
              "      <td>0.262500</td>\n",
              "      <td>0.165000</td>\n",
              "      <td>0.059400</td>\n",
              "    </tr>\n",
              "    <tr>\n",
              "      <th>7</th>\n",
              "      <td>feature8</td>\n",
              "      <td>0.752500</td>\n",
              "      <td>0.027500</td>\n",
              "      <td>0.220000</td>\n",
              "      <td>0.192500</td>\n",
              "      <td>0.047644</td>\n",
              "    </tr>\n",
              "    <tr>\n",
              "      <th>21</th>\n",
              "      <td>feature22</td>\n",
              "      <td>0.772500</td>\n",
              "      <td>0.016250</td>\n",
              "      <td>0.211250</td>\n",
              "      <td>0.195000</td>\n",
              "      <td>0.044363</td>\n",
              "    </tr>\n",
              "    <tr>\n",
              "      <th>6</th>\n",
              "      <td>feature7</td>\n",
              "      <td>0.750625</td>\n",
              "      <td>0.052500</td>\n",
              "      <td>0.196875</td>\n",
              "      <td>0.144375</td>\n",
              "      <td>0.036004</td>\n",
              "    </tr>\n",
              "    <tr>\n",
              "      <th>11</th>\n",
              "      <td>feature12</td>\n",
              "      <td>0.750000</td>\n",
              "      <td>0.062500</td>\n",
              "      <td>0.187500</td>\n",
              "      <td>0.125000</td>\n",
              "      <td>0.031250</td>\n",
              "    </tr>\n",
              "    <tr>\n",
              "      <th>20</th>\n",
              "      <td>feature21</td>\n",
              "      <td>0.762500</td>\n",
              "      <td>0.047500</td>\n",
              "      <td>0.178125</td>\n",
              "      <td>0.130625</td>\n",
              "      <td>0.031023</td>\n",
              "    </tr>\n",
              "    <tr>\n",
              "      <th>2</th>\n",
              "      <td>feature3</td>\n",
              "      <td>0.750625</td>\n",
              "      <td>0.065625</td>\n",
              "      <td>0.183750</td>\n",
              "      <td>0.118125</td>\n",
              "      <td>0.029457</td>\n",
              "    </tr>\n",
              "    <tr>\n",
              "      <th>0</th>\n",
              "      <td>feature1</td>\n",
              "      <td>0.800625</td>\n",
              "      <td>0.036250</td>\n",
              "      <td>0.163125</td>\n",
              "      <td>0.126875</td>\n",
              "      <td>0.025296</td>\n",
              "    </tr>\n",
              "    <tr>\n",
              "      <th>9</th>\n",
              "      <td>feature10</td>\n",
              "      <td>0.755625</td>\n",
              "      <td>0.071875</td>\n",
              "      <td>0.172500</td>\n",
              "      <td>0.100625</td>\n",
              "      <td>0.024590</td>\n",
              "    </tr>\n",
              "    <tr>\n",
              "      <th>3</th>\n",
              "      <td>feature4</td>\n",
              "      <td>0.787500</td>\n",
              "      <td>0.042500</td>\n",
              "      <td>0.138125</td>\n",
              "      <td>0.095625</td>\n",
              "      <td>0.020320</td>\n",
              "    </tr>\n",
              "    <tr>\n",
              "      <th>19</th>\n",
              "      <td>feature20</td>\n",
              "      <td>0.775000</td>\n",
              "      <td>0.056250</td>\n",
              "      <td>0.146250</td>\n",
              "      <td>0.090000</td>\n",
              "      <td>0.020250</td>\n",
              "    </tr>\n",
              "    <tr>\n",
              "      <th>10</th>\n",
              "      <td>feature11</td>\n",
              "      <td>0.800000</td>\n",
              "      <td>0.030000</td>\n",
              "      <td>0.130000</td>\n",
              "      <td>0.100000</td>\n",
              "      <td>0.020000</td>\n",
              "    </tr>\n",
              "    <tr>\n",
              "      <th>15</th>\n",
              "      <td>feature16</td>\n",
              "      <td>0.825000</td>\n",
              "      <td>0.008750</td>\n",
              "      <td>0.113750</td>\n",
              "      <td>0.105000</td>\n",
              "      <td>0.018375</td>\n",
              "    </tr>\n",
              "    <tr>\n",
              "      <th>13</th>\n",
              "      <td>feature14</td>\n",
              "      <td>0.800000</td>\n",
              "      <td>0.040000</td>\n",
              "      <td>0.120000</td>\n",
              "      <td>0.080000</td>\n",
              "      <td>0.016000</td>\n",
              "    </tr>\n",
              "    <tr>\n",
              "      <th>4</th>\n",
              "      <td>feature5</td>\n",
              "      <td>0.760000</td>\n",
              "      <td>0.090000</td>\n",
              "      <td>0.150000</td>\n",
              "      <td>0.060000</td>\n",
              "      <td>0.014400</td>\n",
              "    </tr>\n",
              "    <tr>\n",
              "      <th>8</th>\n",
              "      <td>feature9</td>\n",
              "      <td>0.812500</td>\n",
              "      <td>0.037500</td>\n",
              "      <td>0.103125</td>\n",
              "      <td>0.065625</td>\n",
              "      <td>0.012305</td>\n",
              "    </tr>\n",
              "    <tr>\n",
              "      <th>1</th>\n",
              "      <td>feature2</td>\n",
              "      <td>0.837500</td>\n",
              "      <td>0.024375</td>\n",
              "      <td>0.081250</td>\n",
              "      <td>0.056875</td>\n",
              "      <td>0.009242</td>\n",
              "    </tr>\n",
              "    <tr>\n",
              "      <th>18</th>\n",
              "      <td>feature19</td>\n",
              "      <td>0.812500</td>\n",
              "      <td>0.046875</td>\n",
              "      <td>0.093750</td>\n",
              "      <td>0.046875</td>\n",
              "      <td>0.008789</td>\n",
              "    </tr>\n",
              "    <tr>\n",
              "      <th>16</th>\n",
              "      <td>feature17</td>\n",
              "      <td>0.900000</td>\n",
              "      <td>0.000000</td>\n",
              "      <td>0.040000</td>\n",
              "      <td>0.040000</td>\n",
              "      <td>0.004000</td>\n",
              "    </tr>\n",
              "    <tr>\n",
              "      <th>5</th>\n",
              "      <td>feature6</td>\n",
              "      <td>0.875000</td>\n",
              "      <td>0.018750</td>\n",
              "      <td>0.043750</td>\n",
              "      <td>0.025000</td>\n",
              "      <td>0.003125</td>\n",
              "    </tr>\n",
              "    <tr>\n",
              "      <th>17</th>\n",
              "      <td>feature18</td>\n",
              "      <td>0.925000</td>\n",
              "      <td>0.000000</td>\n",
              "      <td>0.022500</td>\n",
              "      <td>0.022500</td>\n",
              "      <td>0.001687</td>\n",
              "    </tr>\n",
              "    <tr>\n",
              "      <th>14</th>\n",
              "      <td>feature15</td>\n",
              "      <td>0.925000</td>\n",
              "      <td>0.003750</td>\n",
              "      <td>0.018750</td>\n",
              "      <td>0.015000</td>\n",
              "      <td>0.001125</td>\n",
              "    </tr>\n",
              "  </tbody>\n",
              "</table>\n",
              "</div>"
            ],
            "text/plain": [
              "      Feature         π         μ         υ     μ - υ  |1- π|⋅|μ - υ|\n",
              "12  feature13  0.640000  0.097500  0.262500  0.165000        0.059400\n",
              "7    feature8  0.752500  0.027500  0.220000  0.192500        0.047644\n",
              "21  feature22  0.772500  0.016250  0.211250  0.195000        0.044363\n",
              "6    feature7  0.750625  0.052500  0.196875  0.144375        0.036004\n",
              "11  feature12  0.750000  0.062500  0.187500  0.125000        0.031250\n",
              "20  feature21  0.762500  0.047500  0.178125  0.130625        0.031023\n",
              "2    feature3  0.750625  0.065625  0.183750  0.118125        0.029457\n",
              "0    feature1  0.800625  0.036250  0.163125  0.126875        0.025296\n",
              "9   feature10  0.755625  0.071875  0.172500  0.100625        0.024590\n",
              "3    feature4  0.787500  0.042500  0.138125  0.095625        0.020320\n",
              "19  feature20  0.775000  0.056250  0.146250  0.090000        0.020250\n",
              "10  feature11  0.800000  0.030000  0.130000  0.100000        0.020000\n",
              "15  feature16  0.825000  0.008750  0.113750  0.105000        0.018375\n",
              "13  feature14  0.800000  0.040000  0.120000  0.080000        0.016000\n",
              "4    feature5  0.760000  0.090000  0.150000  0.060000        0.014400\n",
              "8    feature9  0.812500  0.037500  0.103125  0.065625        0.012305\n",
              "1    feature2  0.837500  0.024375  0.081250  0.056875        0.009242\n",
              "18  feature19  0.812500  0.046875  0.093750  0.046875        0.008789\n",
              "16  feature17  0.900000  0.000000  0.040000  0.040000        0.004000\n",
              "5    feature6  0.875000  0.018750  0.043750  0.025000        0.003125\n",
              "17  feature18  0.925000  0.000000  0.022500  0.022500        0.001687\n",
              "14  feature15  0.925000  0.003750  0.018750  0.015000        0.001125"
            ]
          },
          "metadata": {
            "tags": []
          }
        }
      ]
    },
    {
      "cell_type": "markdown",
      "metadata": {
        "id": "d_55IHqbBCWl"
      },
      "source": [
        "## Features' ranking"
      ]
    },
    {
      "cell_type": "code",
      "metadata": {
        "colab": {
          "base_uri": "https://localhost:8080/",
          "height": 542
        },
        "id": "RnBlacw-2rT1",
        "outputId": "b24d63b0-f596-43ba-8ff1-fc79e141ac50"
      },
      "source": [
        "\n",
        "fig = px.line(result_ifs.sort_values('|1- π|⋅|μ - υ|',ascending = False).reset_index(drop = True), x=\"Feature\", y=\"|1- π|⋅|μ - υ|\",labels={\n",
        "                     \"|1- π|⋅|μ - υ|\": \"Feature significance\",\n",
        "                 })\n",
        "fig.show()"
      ],
      "execution_count": null,
      "outputs": [
        {
          "output_type": "display_data",
          "data": {
            "text/html": [
              "<html>\n",
              "<head><meta charset=\"utf-8\" /></head>\n",
              "<body>\n",
              "    <div>\n",
              "            <script src=\"https://cdnjs.cloudflare.com/ajax/libs/mathjax/2.7.5/MathJax.js?config=TeX-AMS-MML_SVG\"></script><script type=\"text/javascript\">if (window.MathJax) {MathJax.Hub.Config({SVG: {font: \"STIX-Web\"}});}</script>\n",
              "                <script type=\"text/javascript\">window.PlotlyConfig = {MathJaxConfig: 'local'};</script>\n",
              "        <script src=\"https://cdn.plot.ly/plotly-latest.min.js\"></script>    \n",
              "            <div id=\"99cd8581-5dcc-44e2-bb27-a4b9de490ee3\" class=\"plotly-graph-div\" style=\"height:525px; width:100%;\"></div>\n",
              "            <script type=\"text/javascript\">\n",
              "                \n",
              "                    window.PLOTLYENV=window.PLOTLYENV || {};\n",
              "                    \n",
              "                if (document.getElementById(\"99cd8581-5dcc-44e2-bb27-a4b9de490ee3\")) {\n",
              "                    Plotly.newPlot(\n",
              "                        '99cd8581-5dcc-44e2-bb27-a4b9de490ee3',\n",
              "                        [{\"hoverlabel\": {\"namelength\": 0}, \"hovertemplate\": \"Feature=%{x}<br>Feature significance=%{y}\", \"legendgroup\": \"\", \"line\": {\"color\": \"#636efa\", \"dash\": \"solid\"}, \"mode\": \"lines\", \"name\": \"\", \"showlegend\": false, \"type\": \"scatter\", \"x\": [\"feature13\", \"feature8\", \"feature22\", \"feature7\", \"feature12\", \"feature21\", \"feature3\", \"feature1\", \"feature10\", \"feature4\", \"feature20\", \"feature11\", \"feature16\", \"feature14\", \"feature5\", \"feature9\", \"feature2\", \"feature19\", \"feature17\", \"feature6\", \"feature18\", \"feature15\"], \"xaxis\": \"x\", \"y\": [0.05939999999999986, 0.047643749999999985, 0.04436250000000003, 0.036003515624999996, 0.03125, 0.031023437500000004, 0.029457421874999994, 0.025295703124999964, 0.02459023437500001, 0.020320312500000007, 0.02025000000000001, 0.020000000000000004, 0.018375000000000006, 0.01599999999999999, 0.014399999999999993, 0.012304687499999994, 0.0092421875, 0.0087890625, 0.003999999999999998, 0.003125000000000001, 0.001687499999999999, 0.0011249999999999993], \"yaxis\": \"y\"}],\n",
              "                        {\"legend\": {\"tracegroupgap\": 0}, \"margin\": {\"t\": 60}, \"template\": {\"data\": {\"bar\": [{\"error_x\": {\"color\": \"#2a3f5f\"}, \"error_y\": {\"color\": \"#2a3f5f\"}, \"marker\": {\"line\": {\"color\": \"#E5ECF6\", \"width\": 0.5}}, \"type\": \"bar\"}], \"barpolar\": [{\"marker\": {\"line\": {\"color\": \"#E5ECF6\", \"width\": 0.5}}, \"type\": \"barpolar\"}], \"carpet\": [{\"aaxis\": {\"endlinecolor\": \"#2a3f5f\", \"gridcolor\": \"white\", \"linecolor\": \"white\", \"minorgridcolor\": \"white\", \"startlinecolor\": \"#2a3f5f\"}, \"baxis\": {\"endlinecolor\": \"#2a3f5f\", \"gridcolor\": \"white\", \"linecolor\": \"white\", \"minorgridcolor\": \"white\", \"startlinecolor\": \"#2a3f5f\"}, \"type\": \"carpet\"}], \"choropleth\": [{\"colorbar\": {\"outlinewidth\": 0, \"ticks\": \"\"}, \"type\": \"choropleth\"}], \"contour\": [{\"colorbar\": {\"outlinewidth\": 0, \"ticks\": \"\"}, \"colorscale\": [[0.0, \"#0d0887\"], [0.1111111111111111, \"#46039f\"], [0.2222222222222222, \"#7201a8\"], [0.3333333333333333, \"#9c179e\"], [0.4444444444444444, \"#bd3786\"], [0.5555555555555556, \"#d8576b\"], [0.6666666666666666, \"#ed7953\"], [0.7777777777777778, \"#fb9f3a\"], [0.8888888888888888, \"#fdca26\"], [1.0, \"#f0f921\"]], \"type\": \"contour\"}], \"contourcarpet\": [{\"colorbar\": {\"outlinewidth\": 0, \"ticks\": \"\"}, \"type\": \"contourcarpet\"}], \"heatmap\": [{\"colorbar\": {\"outlinewidth\": 0, \"ticks\": \"\"}, \"colorscale\": [[0.0, \"#0d0887\"], [0.1111111111111111, \"#46039f\"], [0.2222222222222222, \"#7201a8\"], [0.3333333333333333, \"#9c179e\"], [0.4444444444444444, \"#bd3786\"], [0.5555555555555556, \"#d8576b\"], [0.6666666666666666, \"#ed7953\"], [0.7777777777777778, \"#fb9f3a\"], [0.8888888888888888, \"#fdca26\"], [1.0, \"#f0f921\"]], \"type\": \"heatmap\"}], \"heatmapgl\": [{\"colorbar\": {\"outlinewidth\": 0, \"ticks\": \"\"}, \"colorscale\": [[0.0, \"#0d0887\"], [0.1111111111111111, \"#46039f\"], [0.2222222222222222, \"#7201a8\"], [0.3333333333333333, \"#9c179e\"], [0.4444444444444444, \"#bd3786\"], [0.5555555555555556, \"#d8576b\"], [0.6666666666666666, \"#ed7953\"], [0.7777777777777778, \"#fb9f3a\"], [0.8888888888888888, \"#fdca26\"], [1.0, \"#f0f921\"]], \"type\": \"heatmapgl\"}], \"histogram\": [{\"marker\": {\"colorbar\": {\"outlinewidth\": 0, \"ticks\": \"\"}}, \"type\": \"histogram\"}], \"histogram2d\": [{\"colorbar\": {\"outlinewidth\": 0, \"ticks\": \"\"}, \"colorscale\": [[0.0, \"#0d0887\"], [0.1111111111111111, \"#46039f\"], [0.2222222222222222, \"#7201a8\"], [0.3333333333333333, \"#9c179e\"], [0.4444444444444444, \"#bd3786\"], [0.5555555555555556, \"#d8576b\"], [0.6666666666666666, \"#ed7953\"], [0.7777777777777778, \"#fb9f3a\"], [0.8888888888888888, \"#fdca26\"], [1.0, \"#f0f921\"]], \"type\": \"histogram2d\"}], \"histogram2dcontour\": [{\"colorbar\": {\"outlinewidth\": 0, \"ticks\": \"\"}, \"colorscale\": [[0.0, \"#0d0887\"], [0.1111111111111111, \"#46039f\"], [0.2222222222222222, \"#7201a8\"], [0.3333333333333333, \"#9c179e\"], [0.4444444444444444, \"#bd3786\"], [0.5555555555555556, \"#d8576b\"], [0.6666666666666666, \"#ed7953\"], [0.7777777777777778, \"#fb9f3a\"], [0.8888888888888888, \"#fdca26\"], [1.0, \"#f0f921\"]], \"type\": \"histogram2dcontour\"}], \"mesh3d\": [{\"colorbar\": {\"outlinewidth\": 0, \"ticks\": \"\"}, \"type\": \"mesh3d\"}], \"parcoords\": [{\"line\": {\"colorbar\": {\"outlinewidth\": 0, \"ticks\": \"\"}}, \"type\": \"parcoords\"}], \"pie\": [{\"automargin\": true, \"type\": \"pie\"}], \"scatter\": [{\"marker\": {\"colorbar\": {\"outlinewidth\": 0, \"ticks\": \"\"}}, \"type\": \"scatter\"}], \"scatter3d\": [{\"line\": {\"colorbar\": {\"outlinewidth\": 0, \"ticks\": \"\"}}, \"marker\": {\"colorbar\": {\"outlinewidth\": 0, \"ticks\": \"\"}}, \"type\": \"scatter3d\"}], \"scattercarpet\": [{\"marker\": {\"colorbar\": {\"outlinewidth\": 0, \"ticks\": \"\"}}, \"type\": \"scattercarpet\"}], \"scattergeo\": [{\"marker\": {\"colorbar\": {\"outlinewidth\": 0, \"ticks\": \"\"}}, \"type\": \"scattergeo\"}], \"scattergl\": [{\"marker\": {\"colorbar\": {\"outlinewidth\": 0, \"ticks\": \"\"}}, \"type\": \"scattergl\"}], \"scattermapbox\": [{\"marker\": {\"colorbar\": {\"outlinewidth\": 0, \"ticks\": \"\"}}, \"type\": \"scattermapbox\"}], \"scatterpolar\": [{\"marker\": {\"colorbar\": {\"outlinewidth\": 0, \"ticks\": \"\"}}, \"type\": \"scatterpolar\"}], \"scatterpolargl\": [{\"marker\": {\"colorbar\": {\"outlinewidth\": 0, \"ticks\": \"\"}}, \"type\": \"scatterpolargl\"}], \"scatterternary\": [{\"marker\": {\"colorbar\": {\"outlinewidth\": 0, \"ticks\": \"\"}}, \"type\": \"scatterternary\"}], \"surface\": [{\"colorbar\": {\"outlinewidth\": 0, \"ticks\": \"\"}, \"colorscale\": [[0.0, \"#0d0887\"], [0.1111111111111111, \"#46039f\"], [0.2222222222222222, \"#7201a8\"], [0.3333333333333333, \"#9c179e\"], [0.4444444444444444, \"#bd3786\"], [0.5555555555555556, \"#d8576b\"], [0.6666666666666666, \"#ed7953\"], [0.7777777777777778, \"#fb9f3a\"], [0.8888888888888888, \"#fdca26\"], [1.0, \"#f0f921\"]], \"type\": \"surface\"}], \"table\": [{\"cells\": {\"fill\": {\"color\": \"#EBF0F8\"}, \"line\": {\"color\": \"white\"}}, \"header\": {\"fill\": {\"color\": \"#C8D4E3\"}, \"line\": {\"color\": \"white\"}}, \"type\": \"table\"}]}, \"layout\": {\"annotationdefaults\": {\"arrowcolor\": \"#2a3f5f\", \"arrowhead\": 0, \"arrowwidth\": 1}, \"coloraxis\": {\"colorbar\": {\"outlinewidth\": 0, \"ticks\": \"\"}}, \"colorscale\": {\"diverging\": [[0, \"#8e0152\"], [0.1, \"#c51b7d\"], [0.2, \"#de77ae\"], [0.3, \"#f1b6da\"], [0.4, \"#fde0ef\"], [0.5, \"#f7f7f7\"], [0.6, \"#e6f5d0\"], [0.7, \"#b8e186\"], [0.8, \"#7fbc41\"], [0.9, \"#4d9221\"], [1, \"#276419\"]], \"sequential\": [[0.0, \"#0d0887\"], [0.1111111111111111, \"#46039f\"], [0.2222222222222222, \"#7201a8\"], [0.3333333333333333, \"#9c179e\"], [0.4444444444444444, \"#bd3786\"], [0.5555555555555556, \"#d8576b\"], [0.6666666666666666, \"#ed7953\"], [0.7777777777777778, \"#fb9f3a\"], [0.8888888888888888, \"#fdca26\"], [1.0, \"#f0f921\"]], \"sequentialminus\": [[0.0, \"#0d0887\"], [0.1111111111111111, \"#46039f\"], [0.2222222222222222, \"#7201a8\"], [0.3333333333333333, \"#9c179e\"], [0.4444444444444444, \"#bd3786\"], [0.5555555555555556, \"#d8576b\"], [0.6666666666666666, \"#ed7953\"], [0.7777777777777778, \"#fb9f3a\"], [0.8888888888888888, \"#fdca26\"], [1.0, \"#f0f921\"]]}, \"colorway\": [\"#636efa\", \"#EF553B\", \"#00cc96\", \"#ab63fa\", \"#FFA15A\", \"#19d3f3\", \"#FF6692\", \"#B6E880\", \"#FF97FF\", \"#FECB52\"], \"font\": {\"color\": \"#2a3f5f\"}, \"geo\": {\"bgcolor\": \"white\", \"lakecolor\": \"white\", \"landcolor\": \"#E5ECF6\", \"showlakes\": true, \"showland\": true, \"subunitcolor\": \"white\"}, \"hoverlabel\": {\"align\": \"left\"}, \"hovermode\": \"closest\", \"mapbox\": {\"style\": \"light\"}, \"paper_bgcolor\": \"white\", \"plot_bgcolor\": \"#E5ECF6\", \"polar\": {\"angularaxis\": {\"gridcolor\": \"white\", \"linecolor\": \"white\", \"ticks\": \"\"}, \"bgcolor\": \"#E5ECF6\", \"radialaxis\": {\"gridcolor\": \"white\", \"linecolor\": \"white\", \"ticks\": \"\"}}, \"scene\": {\"xaxis\": {\"backgroundcolor\": \"#E5ECF6\", \"gridcolor\": \"white\", \"gridwidth\": 2, \"linecolor\": \"white\", \"showbackground\": true, \"ticks\": \"\", \"zerolinecolor\": \"white\"}, \"yaxis\": {\"backgroundcolor\": \"#E5ECF6\", \"gridcolor\": \"white\", \"gridwidth\": 2, \"linecolor\": \"white\", \"showbackground\": true, \"ticks\": \"\", \"zerolinecolor\": \"white\"}, \"zaxis\": {\"backgroundcolor\": \"#E5ECF6\", \"gridcolor\": \"white\", \"gridwidth\": 2, \"linecolor\": \"white\", \"showbackground\": true, \"ticks\": \"\", \"zerolinecolor\": \"white\"}}, \"shapedefaults\": {\"line\": {\"color\": \"#2a3f5f\"}}, \"ternary\": {\"aaxis\": {\"gridcolor\": \"white\", \"linecolor\": \"white\", \"ticks\": \"\"}, \"baxis\": {\"gridcolor\": \"white\", \"linecolor\": \"white\", \"ticks\": \"\"}, \"bgcolor\": \"#E5ECF6\", \"caxis\": {\"gridcolor\": \"white\", \"linecolor\": \"white\", \"ticks\": \"\"}}, \"title\": {\"x\": 0.05}, \"xaxis\": {\"automargin\": true, \"gridcolor\": \"white\", \"linecolor\": \"white\", \"ticks\": \"\", \"title\": {\"standoff\": 15}, \"zerolinecolor\": \"white\", \"zerolinewidth\": 2}, \"yaxis\": {\"automargin\": true, \"gridcolor\": \"white\", \"linecolor\": \"white\", \"ticks\": \"\", \"title\": {\"standoff\": 15}, \"zerolinecolor\": \"white\", \"zerolinewidth\": 2}}}, \"xaxis\": {\"anchor\": \"y\", \"domain\": [0.0, 1.0], \"title\": {\"text\": \"Feature\"}}, \"yaxis\": {\"anchor\": \"x\", \"domain\": [0.0, 1.0], \"title\": {\"text\": \"Feature significance\"}}},\n",
              "                        {\"responsive\": true}\n",
              "                    ).then(function(){\n",
              "                            \n",
              "var gd = document.getElementById('99cd8581-5dcc-44e2-bb27-a4b9de490ee3');\n",
              "var x = new MutationObserver(function (mutations, observer) {{\n",
              "        var display = window.getComputedStyle(gd).display;\n",
              "        if (!display || display === 'none') {{\n",
              "            console.log([gd, 'removed!']);\n",
              "            Plotly.purge(gd);\n",
              "            observer.disconnect();\n",
              "        }}\n",
              "}});\n",
              "\n",
              "// Listen for the removal of the full notebook cells\n",
              "var notebookContainer = gd.closest('#notebook-container');\n",
              "if (notebookContainer) {{\n",
              "    x.observe(notebookContainer, {childList: true});\n",
              "}}\n",
              "\n",
              "// Listen for the clearing of the current output cell\n",
              "var outputEl = gd.closest('.output');\n",
              "if (outputEl) {{\n",
              "    x.observe(outputEl, {childList: true});\n",
              "}}\n",
              "\n",
              "                        })\n",
              "                };\n",
              "                \n",
              "            </script>\n",
              "        </div>\n",
              "</body>\n",
              "</html>"
            ]
          },
          "metadata": {
            "tags": []
          }
        }
      ]
    },
    {
      "cell_type": "markdown",
      "metadata": {
        "id": "09fuibfX3lQk"
      },
      "source": [
        "<a name=\"results\"></a>\r\n",
        "# Analysis of the results\r\n",
        "\r\n",
        "The method may look fine, but the results obtained differ from the ones the authors of the article got [1], that is due to the following mass assignment's property: \r\n",
        "for each attribute firstly \\\\(pos\\\\) and \\\\(neg\\\\) are computed, then, the hesitation margin is computed by its definition [2]:  \r\n",
        " \\\\(\\pi(x) = pos_x+neg_x-1\\\\),  \r\n",
        " but if take a deeper look in that definition: \\\\(pos_x(i) = 2\\cdot p_x\\text{ or }1\\\\), where \\\\(i\\\\) - is the feature's index, and \\\\(x\\\\) - attribute's value. \r\n",
        "\r\n",
        "Same for \\\\(neg_x(i)\\\\), and, the value \\\\(2\\cdot p_x(i) + 2\\cdot p_y(i)\\\\) can be, of course, less than one, thus, the hesitation margin can be below zero, the authors did not define the resolution of that problem and how to deal with it, so, the hesitaion margin can be negative. "
      ]
    },
    {
      "cell_type": "markdown",
      "metadata": {
        "id": "-DniLX_kBMB3"
      },
      "source": [
        "# Comparing results with the random forest results"
      ]
    },
    {
      "cell_type": "code",
      "metadata": {
        "id": "NKEP9ZFq2rT2",
        "colab": {
          "base_uri": "https://localhost:8080/"
        },
        "outputId": "cc3a38ae-2c9e-4653-efad-f856c45cf0b7"
      },
      "source": [
        "# Train/test splitting\r\n",
        "df = pd.read_csv('SPECT.train.csv', header=None)\r\n",
        "df_test = pd.read_csv('SPECT.test.csv', header=None)\r\n",
        "columns = ['diagnosis']\r\n",
        "columns.extend(['feature' + str(i) for i in range(1, len(df.columns))])\r\n",
        "df.columns = columns\r\n",
        "df_test.columns = columns\r\n",
        "X_test = df_test.loc[:, columns[1:]].values\r\n",
        "y_test = df_test.loc[:, columns[0]].values\r\n",
        "X_train = df.loc[:, columns[1:]].values\r\n",
        "y_train = df.loc[:, columns[0]].values\r\n",
        "rf_model = RandomForestClassifier(n_estimators=10).fit(X_train, y_train)\r\n",
        "print(\"train accuracy:\",rf_model.score(X_train,y_train))\r\n",
        "print(\"test accuracy:\",rf_model.score(X_test,y_test))"
      ],
      "execution_count": null,
      "outputs": [
        {
          "output_type": "stream",
          "text": [
            "train accuracy: 0.925\n",
            "test accuracy: 0.7754010695187166\n"
          ],
          "name": "stdout"
        }
      ]
    },
    {
      "cell_type": "code",
      "metadata": {
        "id": "uWob75VB2rT3",
        "colab": {
          "base_uri": "https://localhost:8080/",
          "height": 851
        },
        "outputId": "44b4f5e9-cec0-4329-bc5b-5a7a517dd83c"
      },
      "source": [
        "#Feature Importance & selection\r\n",
        "plt.figure(figsize=(12, 8))\r\n",
        "sns.barplot(x=rf_model.feature_importances_, y=df.columns[1:])\r\n",
        "plt.show()\r\n",
        "importance = pd.DataFrame(rf_model.feature_importances_, index = df.columns[1:], \\\r\n",
        "                          columns = [\"Random_forest_feature_importance\"]).sort_values(\"Random_forest_feature_importance\", ascending = False)\r\n",
        "importance.index.name = 'Random_forest_indices'\r\n",
        "importance['IFS_indices'] = result_ifs['Feature'].values\r\n",
        "importance['IFS_feature_importance'] = result_ifs['|1- π|⋅|μ - υ|'].values\r\n",
        "importance.head(10)"
      ],
      "execution_count": null,
      "outputs": [
        {
          "output_type": "display_data",
          "data": {
            "image/png": "[encoded data removed]",
            "text/plain": [
              "<Figure size 864x576 with 1 Axes>"
            ]
          },
          "metadata": {
            "tags": [],
            "needs_background": "light"
          }
        },
        {
          "output_type": "execute_result",
          "data": {
            "text/html": [
              "<div>\n",
              "<style scoped>\n",
              "    .dataframe tbody tr th:only-of-type {\n",
              "        vertical-align: middle;\n",
              "    }\n",
              "\n",
              "    .dataframe tbody tr th {\n",
              "        vertical-align: top;\n",
              "    }\n",
              "\n",
              "    .dataframe thead th {\n",
              "        text-align: right;\n",
              "    }\n",
              "</style>\n",
              "<table border=\"1\" class=\"dataframe\">\n",
              "  <thead>\n",
              "    <tr style=\"text-align: right;\">\n",
              "      <th></th>\n",
              "      <th>Random_forest_feature_importance</th>\n",
              "      <th>IFS_indices</th>\n",
              "      <th>IFS_feature_importance</th>\n",
              "    </tr>\n",
              "    <tr>\n",
              "      <th>Random_forest_indices</th>\n",
              "      <th></th>\n",
              "      <th></th>\n",
              "      <th></th>\n",
              "    </tr>\n",
              "  </thead>\n",
              "  <tbody>\n",
              "    <tr>\n",
              "      <th>feature13</th>\n",
              "      <td>0.129259</td>\n",
              "      <td>feature13</td>\n",
              "      <td>0.059400</td>\n",
              "    </tr>\n",
              "    <tr>\n",
              "      <th>feature16</th>\n",
              "      <td>0.085561</td>\n",
              "      <td>feature8</td>\n",
              "      <td>0.047644</td>\n",
              "    </tr>\n",
              "    <tr>\n",
              "      <th>feature8</th>\n",
              "      <td>0.081060</td>\n",
              "      <td>feature22</td>\n",
              "      <td>0.044363</td>\n",
              "    </tr>\n",
              "    <tr>\n",
              "      <th>feature11</th>\n",
              "      <td>0.075056</td>\n",
              "      <td>feature7</td>\n",
              "      <td>0.036004</td>\n",
              "    </tr>\n",
              "    <tr>\n",
              "      <th>feature22</th>\n",
              "      <td>0.070569</td>\n",
              "      <td>feature12</td>\n",
              "      <td>0.031250</td>\n",
              "    </tr>\n",
              "    <tr>\n",
              "      <th>feature21</th>\n",
              "      <td>0.053696</td>\n",
              "      <td>feature21</td>\n",
              "      <td>0.031023</td>\n",
              "    </tr>\n",
              "    <tr>\n",
              "      <th>feature17</th>\n",
              "      <td>0.053638</td>\n",
              "      <td>feature3</td>\n",
              "      <td>0.029457</td>\n",
              "    </tr>\n",
              "    <tr>\n",
              "      <th>feature7</th>\n",
              "      <td>0.048743</td>\n",
              "      <td>feature1</td>\n",
              "      <td>0.025296</td>\n",
              "    </tr>\n",
              "    <tr>\n",
              "      <th>feature2</th>\n",
              "      <td>0.045214</td>\n",
              "      <td>feature10</td>\n",
              "      <td>0.024590</td>\n",
              "    </tr>\n",
              "    <tr>\n",
              "      <th>feature5</th>\n",
              "      <td>0.039569</td>\n",
              "      <td>feature4</td>\n",
              "      <td>0.020320</td>\n",
              "    </tr>\n",
              "  </tbody>\n",
              "</table>\n",
              "</div>"
            ],
            "text/plain": [
              "                       Random_forest_feature_importance  ... IFS_feature_importance\n",
              "Random_forest_indices                                    ...                       \n",
              "feature13                                      0.129259  ...               0.059400\n",
              "feature16                                      0.085561  ...               0.047644\n",
              "feature8                                       0.081060  ...               0.044363\n",
              "feature11                                      0.075056  ...               0.036004\n",
              "feature22                                      0.070569  ...               0.031250\n",
              "feature21                                      0.053696  ...               0.031023\n",
              "feature17                                      0.053638  ...               0.029457\n",
              "feature7                                       0.048743  ...               0.025296\n",
              "feature2                                       0.045214  ...               0.024590\n",
              "feature5                                       0.039569  ...               0.020320\n",
              "\n",
              "[10 rows x 3 columns]"
            ]
          },
          "metadata": {
            "tags": []
          },
          "execution_count": 89
        }
      ]
    },
    {
      "cell_type": "code",
      "metadata": {
        "colab": {
          "base_uri": "https://localhost:8080/"
        },
        "id": "TT_DOPQsCOJx",
        "outputId": "a99625e9-74a1-4794-a0a7-45190ec5a368"
      },
      "source": [
        "print('Cardinality of sets\\' intersection of top ten features ranked:', len(set(importance['IFS_indices'][:10])&set(importance.index.tolist()[:10])))"
      ],
      "execution_count": null,
      "outputs": [
        {
          "output_type": "stream",
          "text": [
            "Cardinality of sets' intersection of top ten features ranked: 5\n"
          ],
          "name": "stdout"
        }
      ]
    },
    {
      "cell_type": "code",
      "metadata": {
        "id": "OpSce0U2F64_"
      },
      "source": [
        "selected_ifs =  importance['IFS_indices'][:10]\r\n",
        "selected_random_forest = importance.index.tolist()[:10]\r\n",
        "selected_article = []\r\n",
        "selected_article.extend(['feature' + str(i) for i in [13,8,21,22,16,3,20,10,1,7]])\r\n",
        "X_test_rf = df_test.loc[:, selected_random_forest].values\r\n",
        "X_train_rf = df.loc[:, selected_random_forest].values\r\n",
        "X_test_ifs = df_test.loc[:, selected_ifs].values\r\n",
        "X_train_ifs = df.loc[:, selected_ifs].values\r\n",
        "X_test_art = df_test.loc[:, selected_article].values\r\n",
        "X_train_art = df.loc[:, selected_article].values"
      ],
      "execution_count": null,
      "outputs": []
    },
    {
      "cell_type": "code",
      "metadata": {
        "colab": {
          "base_uri": "https://localhost:8080/"
        },
        "id": "O8SPil_rE38m",
        "outputId": "fb922197-a990-4db3-aebd-2c04927cb3c3"
      },
      "source": [
        "from sklearn.metrics import precision_score, recall_score, accuracy_score, classification_report, f1_score, confusion_matrix\r\n",
        "a = ('rf','ifs', 'art')\r\n",
        "train_test = [(X_train_rf, X_test_rf ), (X_train_ifs, X_test_ifs), (X_train_art, X_test_art)]\r\n",
        "results = dict()\r\n",
        "for i in range(100):\r\n",
        "  for j in zip(a, train_test):\r\n",
        "    rf_model = RandomForestClassifier(n_estimators=10).fit(j[1][0], y_train)\r\n",
        "    y_pred = rf_model.predict(j[1][1])\r\n",
        "    prec = precision_score(y_test, y_pred)\r\n",
        "    rec = recall_score(y_test, y_pred)\r\n",
        "    acc = accuracy_score(y_test, y_pred)\r\n",
        "    f_one = f1_score(y_test, y_pred)\r\n",
        "    k = results.get(j[0], 0)\r\n",
        "    if type(k) == type(0):\r\n",
        "      results[j[0]] = np.zeros((1,4))\r\n",
        "    results[j[0]] += np.array([acc,rec,prec,f_one])\r\n",
        "\r\n",
        "for i in results.keys():\r\n",
        "  results[i]/=100\r\n",
        "for i in results.keys():\r\n",
        "  print(f'Average metrics for selection: {i}')\r\n",
        "  for j,k in enumerate(['accuracy', 'recall', 'precision', 'f1-score']):\r\n",
        "    print(k, results[i][:, j])\r\n",
        "  print('*'*10)"
      ],
      "execution_count": null,
      "outputs": [
        {
          "output_type": "stream",
          "text": [
            "Average metrics for selection: rf\n",
            "accuracy [0.71989305]\n",
            "recall [0.71046512]\n",
            "precision [0.97942756]\n",
            "f1-score [0.82291991]\n",
            "**********\n",
            "Average metrics for selection: ifs\n",
            "accuracy [0.67994652]\n",
            "recall [0.66610465]\n",
            "precision [0.9793159]\n",
            "f1-score [0.79267527]\n",
            "**********\n",
            "Average metrics for selection: art\n",
            "accuracy [0.72855615]\n",
            "recall [0.72284884]\n",
            "precision [0.97589707]\n",
            "f1-score [0.82923811]\n",
            "**********\n"
          ],
          "name": "stdout"
        }
      ]
    },
    {
      "cell_type": "markdown",
      "metadata": {
        "id": "h9GYnjCpJfs1"
      },
      "source": [
        "# Decision tree classifier"
      ]
    },
    {
      "cell_type": "code",
      "metadata": {
        "id": "VL2TNUeIJvfV",
        "colab": {
          "base_uri": "https://localhost:8080/"
        },
        "outputId": "925fed17-99e0-462b-dd8d-439d024d4b04"
      },
      "source": [
        "dec_tree = DecisionTreeClassifier().fit(X_train,y_train)\r\n",
        "print(\"train accuracy:\",dec_tree.score(X_train,y_train))\r\n",
        "print(\"test accuracy:\",dec_tree.score(X_test,y_test))\r\n",
        "dec_tree_preds = dec_tree.predict(X_test)\r\n",
        "print(classification_report(y_test,dec_tree_preds))"
      ],
      "execution_count": null,
      "outputs": [
        {
          "output_type": "stream",
          "text": [
            "train accuracy: 0.9375\n",
            "test accuracy: 0.679144385026738\n",
            "              precision    recall  f1-score   support\n",
            "\n",
            "           0       0.17      0.80      0.29        15\n",
            "           1       0.97      0.67      0.79       172\n",
            "\n",
            "    accuracy                           0.68       187\n",
            "   macro avg       0.57      0.73      0.54       187\n",
            "weighted avg       0.91      0.68      0.75       187\n",
            "\n"
          ],
          "name": "stdout"
        }
      ]
    },
    {
      "cell_type": "code",
      "metadata": {
        "colab": {
          "base_uri": "https://localhost:8080/"
        },
        "id": "cCab86LmR5a3",
        "outputId": "824032fc-9eac-4a02-a2df-b362d11b911a"
      },
      "source": [
        "results = dict()\r\n",
        "for i in range(100):\r\n",
        "  for j in zip(a, train_test):\r\n",
        "    rf_model = DecisionTreeClassifier().fit(j[1][0], y_train)\r\n",
        "    y_pred = rf_model.predict(j[1][1])\r\n",
        "    prec = precision_score(y_test, y_pred)\r\n",
        "    rec = recall_score(y_test, y_pred)\r\n",
        "    acc = accuracy_score(y_test, y_pred)\r\n",
        "    f_one = f1_score(y_test, y_pred)\r\n",
        "    k = results.get(j[0], 0)\r\n",
        "    if type(k) == type(0):\r\n",
        "      results[j[0]] = np.zeros((1,4))\r\n",
        "    results[j[0]] += np.array([acc,rec,prec,f_one])\r\n",
        "\r\n",
        "for i in results.keys():\r\n",
        "  results[i]/=100\r\n",
        "for i in results.keys():\r\n",
        "  print(f'Average metrics for selection: {i}')\r\n",
        "  for j,k in enumerate(['accuracy', 'recall', 'precision', 'f1-score']):\r\n",
        "    print(k, results[i][:, j])\r\n",
        "  print('*'*10)"
      ],
      "execution_count": null,
      "outputs": [
        {
          "output_type": "stream",
          "text": [
            "Average metrics for selection: rf\n",
            "accuracy [0.68941176]\n",
            "recall [0.67395349]\n",
            "precision [0.98303647]\n",
            "f1-score [0.79963521]\n",
            "**********\n",
            "Average metrics for selection: ifs\n",
            "accuracy [0.6631016]\n",
            "recall [0.65116279]\n",
            "precision [0.97391304]\n",
            "f1-score [0.7804878]\n",
            "**********\n",
            "Average metrics for selection: art\n",
            "accuracy [0.5828877]\n",
            "recall [0.56395349]\n",
            "precision [0.97]\n",
            "f1-score [0.71323529]\n",
            "**********\n"
          ],
          "name": "stdout"
        }
      ]
    },
    {
      "cell_type": "markdown",
      "metadata": {
        "id": "T0f02l4q5GyV"
      },
      "source": [
        "#  Logistic regression"
      ]
    },
    {
      "cell_type": "code",
      "metadata": {
        "colab": {
          "base_uri": "https://localhost:8080/"
        },
        "id": "sPFvgyNv4_Ct",
        "outputId": "8ba0fd98-01fc-40a7-c35d-0430bd00e93e"
      },
      "source": [
        "results = dict()\r\n",
        "for i in range(100):\r\n",
        "  for j in zip(a, train_test):\r\n",
        "    rf_model = LogisticRegression().fit(j[1][0], y_train)\r\n",
        "    y_pred = rf_model.predict(j[1][1])\r\n",
        "    prec = precision_score(y_test, y_pred)\r\n",
        "    rec = recall_score(y_test, y_pred)\r\n",
        "    acc = accuracy_score(y_test, y_pred)\r\n",
        "    f_one = f1_score(y_test, y_pred)\r\n",
        "    k = results.get(j[0], 0)\r\n",
        "    if type(k) == type(0):\r\n",
        "      results[j[0]] = np.zeros((1,4))\r\n",
        "    results[j[0]] += np.array([acc,rec,prec,f_one])\r\n",
        "\r\n",
        "for i in results.keys():\r\n",
        "  results[i]/=100\r\n",
        "for i in results.keys():\r\n",
        "  print(f'Average metrics for selection: {i}')\r\n",
        "  for j,k in enumerate(['accuracy', 'recall', 'precision', 'f1-score']):\r\n",
        "    print(k, results[i][:, j])\r\n",
        "  print('*'*10)"
      ],
      "execution_count": null,
      "outputs": [
        {
          "output_type": "stream",
          "text": [
            "Average metrics for selection: rf\n",
            "accuracy [0.71657754]\n",
            "recall [0.71511628]\n",
            "precision [0.96850394]\n",
            "f1-score [0.82274247]\n",
            "**********\n",
            "Average metrics for selection: ifs\n",
            "accuracy [0.70053476]\n",
            "recall [0.68604651]\n",
            "precision [0.98333333]\n",
            "f1-score [0.80821918]\n",
            "**********\n",
            "Average metrics for selection: art\n",
            "accuracy [0.71657754]\n",
            "recall [0.70930233]\n",
            "precision [0.976]\n",
            "f1-score [0.82154882]\n",
            "**********\n"
          ],
          "name": "stdout"
        }
      ]
    },
    {
      "cell_type": "code",
      "metadata": {
        "colab": {
          "base_uri": "https://localhost:8080/"
        },
        "id": "F0K7LfJq5Zh2",
        "outputId": "b92ead86-ee5a-4450-b0fb-2177291e56ee"
      },
      "source": [
        "log_regression = LogisticRegression().fit(X_train,y_train)\r\n",
        "print(\"train accuracy:\",log_regression.score(X_train,y_train))\r\n",
        "print(\"test accuracy:\",log_regression.score(X_test,y_test))\r\n",
        "log_regression_preds = log_regression.predict(X_test)\r\n",
        "print(classification_report(y_test,log_regression_preds))"
      ],
      "execution_count": null,
      "outputs": [
        {
          "output_type": "stream",
          "text": [
            "train accuracy: 0.8375\n",
            "test accuracy: 0.7700534759358288\n",
            "              precision    recall  f1-score   support\n",
            "\n",
            "           0       0.23      0.80      0.36        15\n",
            "           1       0.98      0.77      0.86       172\n",
            "\n",
            "    accuracy                           0.77       187\n",
            "   macro avg       0.60      0.78      0.61       187\n",
            "weighted avg       0.92      0.77      0.82       187\n",
            "\n"
          ],
          "name": "stdout"
        }
      ]
    },
    {
      "cell_type": "code",
      "metadata": {
        "id": "hhA-CLTO5txM"
      },
      "source": [
        ""
      ],
      "execution_count": null,
      "outputs": []
    }
  ]
}